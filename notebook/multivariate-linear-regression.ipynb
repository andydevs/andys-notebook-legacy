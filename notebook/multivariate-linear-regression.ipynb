{
 "cells": [
  {
   "cell_type": "markdown",
   "metadata": {},
   "source": [
    "# Multivariate Linear Regression\n",
    "\n",
    "In this notebook, we use multivariable linear regression to predict the profit of a startup based on it's spending in various areas"
   ]
  },
  {
   "cell_type": "code",
   "execution_count": 1,
   "metadata": {},
   "outputs": [],
   "source": [
    "import pandas as pd\n",
    "import numpy as np\n",
    "import matplotlib\n",
    "import matplotlib.pyplot as plt\n",
    "pd.set_option('display.max_rows', 10)\n",
    "plt.rcParams['figure.figsize'] = [8, 6]\n",
    "%matplotlib widget"
   ]
  },
  {
   "cell_type": "markdown",
   "metadata": {},
   "source": [
    "## Load and process data. \n",
    "\n",
    "So we use Pandas to read the data. Of course, to visualize this data properly, we are only limited to 3 dimensions. So, for this example, we take two columns to train against. Of course we can definitely use all of the columns available to us (specifically the Administration cost). The regression formula can definitely work with any number of inputs. We'll be concerning ourselves with the R&D Spend, Marketing Spend and Profit in our dataset. We also want to filter out any columns where both R&D Spend and Marketing Spend are equal to $0.00. In this case, it would imply that a startup is earning profit by not spending any money at all!"
   ]
  },
  {
   "cell_type": "code",
   "execution_count": 2,
   "metadata": {},
   "outputs": [
    {
     "data": {
      "text/html": [
       "<div>\n",
       "<style scoped>\n",
       "    .dataframe tbody tr th:only-of-type {\n",
       "        vertical-align: middle;\n",
       "    }\n",
       "\n",
       "    .dataframe tbody tr th {\n",
       "        vertical-align: top;\n",
       "    }\n",
       "\n",
       "    .dataframe thead th {\n",
       "        text-align: right;\n",
       "    }\n",
       "</style>\n",
       "<table border=\"1\" class=\"dataframe\">\n",
       "  <thead>\n",
       "    <tr style=\"text-align: right;\">\n",
       "      <th></th>\n",
       "      <th>R&amp;D Spend</th>\n",
       "      <th>Marketing Spend</th>\n",
       "      <th>Profit</th>\n",
       "    </tr>\n",
       "  </thead>\n",
       "  <tbody>\n",
       "    <tr>\n",
       "      <th>0</th>\n",
       "      <td>165349.20</td>\n",
       "      <td>471784.10</td>\n",
       "      <td>192261.83</td>\n",
       "    </tr>\n",
       "    <tr>\n",
       "      <th>1</th>\n",
       "      <td>162597.70</td>\n",
       "      <td>443898.53</td>\n",
       "      <td>191792.06</td>\n",
       "    </tr>\n",
       "    <tr>\n",
       "      <th>2</th>\n",
       "      <td>153441.51</td>\n",
       "      <td>407934.54</td>\n",
       "      <td>191050.39</td>\n",
       "    </tr>\n",
       "    <tr>\n",
       "      <th>3</th>\n",
       "      <td>144372.41</td>\n",
       "      <td>383199.62</td>\n",
       "      <td>182901.99</td>\n",
       "    </tr>\n",
       "    <tr>\n",
       "      <th>4</th>\n",
       "      <td>142107.34</td>\n",
       "      <td>366168.42</td>\n",
       "      <td>166187.94</td>\n",
       "    </tr>\n",
       "    <tr>\n",
       "      <th>...</th>\n",
       "      <td>...</td>\n",
       "      <td>...</td>\n",
       "      <td>...</td>\n",
       "    </tr>\n",
       "    <tr>\n",
       "      <th>44</th>\n",
       "      <td>22177.74</td>\n",
       "      <td>28334.72</td>\n",
       "      <td>65200.33</td>\n",
       "    </tr>\n",
       "    <tr>\n",
       "      <th>45</th>\n",
       "      <td>1000.23</td>\n",
       "      <td>1903.93</td>\n",
       "      <td>64926.08</td>\n",
       "    </tr>\n",
       "    <tr>\n",
       "      <th>46</th>\n",
       "      <td>1315.46</td>\n",
       "      <td>297114.46</td>\n",
       "      <td>49490.75</td>\n",
       "    </tr>\n",
       "    <tr>\n",
       "      <th>48</th>\n",
       "      <td>542.05</td>\n",
       "      <td>0.00</td>\n",
       "      <td>35673.41</td>\n",
       "    </tr>\n",
       "    <tr>\n",
       "      <th>49</th>\n",
       "      <td>0.00</td>\n",
       "      <td>45173.06</td>\n",
       "      <td>14681.40</td>\n",
       "    </tr>\n",
       "  </tbody>\n",
       "</table>\n",
       "<p>49 rows × 3 columns</p>\n",
       "</div>"
      ],
      "text/plain": [
       "    R&D Spend  Marketing Spend     Profit\n",
       "0   165349.20        471784.10  192261.83\n",
       "1   162597.70        443898.53  191792.06\n",
       "2   153441.51        407934.54  191050.39\n",
       "3   144372.41        383199.62  182901.99\n",
       "4   142107.34        366168.42  166187.94\n",
       "..        ...              ...        ...\n",
       "44   22177.74         28334.72   65200.33\n",
       "45    1000.23          1903.93   64926.08\n",
       "46    1315.46        297114.46   49490.75\n",
       "48     542.05             0.00   35673.41\n",
       "49       0.00         45173.06   14681.40\n",
       "\n",
       "[49 rows x 3 columns]"
      ]
     },
     "execution_count": 2,
     "metadata": {},
     "output_type": "execute_result"
    }
   ],
   "source": [
    "df = pd.read_csv('data/50_startups.csv')\n",
    "df = df[[\"R&D Spend\", \"Marketing Spend\", \"Profit\"]]\n",
    "df = df[(df[\"R&D Spend\"] > 0) | (df[\"Marketing Spend\"] > 0)]\n",
    "df"
   ]
  },
  {
   "cell_type": "markdown",
   "metadata": {},
   "source": [
    "Now we extract our data into variables and plot it! In our case, `x` is our R&D Spend, `y` is our Marketing Spend, `z` is our Profit. I also divided each axis by 1000 before I plotted it to make the graph look nicer."
   ]
  },
  {
   "cell_type": "code",
   "execution_count": 3,
   "metadata": {},
   "outputs": [
    {
     "data": {
      "application/vnd.jupyter.widget-view+json": {
       "model_id": "691777de159a4fe48733f7a2104349e1",
       "version_major": 2,
       "version_minor": 0
      },
      "text/plain": [
       "Canvas(toolbar=Toolbar(toolitems=[('Home', 'Reset original view', 'home', 'home'), ('Back', 'Back to previous …"
      ]
     },
     "metadata": {},
     "output_type": "display_data"
    }
   ],
   "source": [
    "# Get data\n",
    "x = df[\"R&D Spend\"].to_numpy()\n",
    "y = df[\"Marketing Spend\"].to_numpy()\n",
    "z = df[\"Profit\"].to_numpy()\n",
    "\n",
    "# Better formatting by dividing by 1000\n",
    "xk = x / 1000\n",
    "yk = y / 1000\n",
    "zk = z / 1000\n",
    "\n",
    "# Plot it!\n",
    "fig = plt.figure()\n",
    "ax = fig.add_subplot(111, projection='3d')\n",
    "ax.scatter(xk, yk, zk, c='k')\n",
    "ax.view_init(azim=-140, elev=20)\n",
    "ax.set_xlabel('R&D Spend ($1k)')\n",
    "ax.set_ylabel('Marketing Spend ($1k)')\n",
    "ax.set_zlabel('Profit ($1k)')\n",
    "ax.set_title('Profit Vs. Marketing & R&D Spend')\n",
    "fig.show()"
   ]
  },
  {
   "cell_type": "markdown",
   "metadata": {},
   "source": [
    "## Develop the Equation\n",
    "\n",
    "First, we create the $\\textbf{X}$ matrix with our ones column. Then, we solve the following equation to find the constants $\\textbf{a}$ in our equation $\\hat{\\textbf{y}} = \\textbf{X}\\textbf{a}$.\n",
    "\n",
    "$$\n",
    "\\textbf{X}^T\\textbf{X}\\textbf{a} = \\textbf{X}^T\\textbf{y}\n",
    "$$\n",
    "\n",
    "In this case our $\\textbf{y}$ is actually the `z` variable in our dataset."
   ]
  },
  {
   "cell_type": "code",
   "execution_count": 4,
   "metadata": {},
   "outputs": [
    {
     "name": "stdout",
     "output_type": "stream",
     "text": [
      "a: [4.73925419e+04 7.94973943e-01 2.89538549e-02]\n"
     ]
    }
   ],
   "source": [
    "# Construct input and output matrix\n",
    "X = np.array([ np.ones((x.shape[0],)), x, y ]).transpose()\n",
    "\n",
    "# Create variables\n",
    "Xt = X.transpose()\n",
    "A = np.matmul(Xt, X) # A = X^T X\n",
    "B = np.matmul(Xt, z) # B = X^T y\n",
    "\n",
    "# Now we solve our equation\n",
    "Ainv = np.linalg.inv(A)\n",
    "a = np.matmul(Ainv, B)\n",
    "print('a:', a)"
   ]
  },
  {
   "cell_type": "markdown",
   "metadata": {},
   "source": [
    "## Evaluating and Plotting\n",
    "\n",
    "Now we can plot this regression model on top of our data using a surface plot. We also compute the $R^2$ value same as in linear regression."
   ]
  },
  {
   "cell_type": "code",
   "execution_count": 5,
   "metadata": {},
   "outputs": [
    {
     "name": "stdout",
     "output_type": "stream",
     "text": [
      "R^2 = 0.9475\n"
     ]
    },
    {
     "data": {
      "application/vnd.jupyter.widget-view+json": {
       "model_id": "e47a9d2081dc4976998cf5c30774a85b",
       "version_major": 2,
       "version_minor": 0
      },
      "text/plain": [
       "Canvas(toolbar=Toolbar(toolitems=[('Home', 'Reset original view', 'home', 'home'), ('Back', 'Back to previous …"
      ]
     },
     "metadata": {},
     "output_type": "display_data"
    }
   ],
   "source": [
    "# Generate plot data\n",
    "N = 100\n",
    "xn = np.linspace(0, x.max(), N)\n",
    "yn = np.linspace(0, y.max(), N)\n",
    "xv, yv = np.meshgrid(xn, yn)\n",
    "zv = a[0] + a[1]*xv + a[2]*yv\n",
    "\n",
    "# Compute R^2\n",
    "zHat = a[0] + a[1]*x + a[2]*y\n",
    "V = ((z - z.mean())**2).sum()\n",
    "J = ((z - zHat)**2).sum()\n",
    "R2 = 1 - J/V\n",
    "print('R^2 = {:.4f}'.format(R2))\n",
    "\n",
    "# Again, divide everything by 1000\n",
    "xvk = xv / 1000\n",
    "yvk = yv / 1000\n",
    "zvk = zv / 1000\n",
    "\n",
    "# Plot it!\n",
    "fig = plt.figure()\n",
    "ax = fig.add_subplot(111, projection='3d')\n",
    "ax.scatter(xk, yk, zk, c='k', label='Actual')\n",
    "ax.plot_surface(xvk, yvk, zvk, \n",
    "    rstride=10, \n",
    "    cstride=10, \n",
    "    color='#08e8', \n",
    "    label='Predicted (R^2 = {:.4f})'.format(R2))\n",
    "ax.view_init(azim=-140, elev=20)\n",
    "ax.set_xlabel('R&D Spend ($1k)')\n",
    "ax.set_ylabel('Marketing Spend ($1k)')\n",
    "ax.set_zlabel('Profit ($1k)')\n",
    "ax.set_title('Profit Vs. Marketing & R&D Spend')\n",
    "plt.show()"
   ]
  },
  {
   "cell_type": "markdown",
   "metadata": {},
   "source": [
    "## Make a prediction\n",
    "\n",
    "Create a single sample datapoint of R&D and Marketing spending and use our equation to predict the profit for a startup with that spending allocation"
   ]
  },
  {
   "cell_type": "code",
   "execution_count": 6,
   "metadata": {},
   "outputs": [
    {
     "name": "stdout",
     "output_type": "stream",
     "text": [
      "Predicted profit for a startup spending $130423.40 on R&D and $233412.50 on marketing = $157833.94\n"
     ]
    }
   ],
   "source": [
    "x0 = 130423.4\n",
    "y0 = 233412.5\n",
    "zHat = a[0] + a[1]*x0 + a[2]*y0\n",
    "print(f'Predicted profit for a startup spending ${x0:.2f} on R&D and ${y0:.2f} on marketing = ${zHat:.2f}')"
   ]
  }
 ],
 "metadata": {
  "callystio": {
   "description": "Exploring linear regression with multiple variables using a different dataset found on Kaggle",
   "publish": true
  },
  "kernelspec": {
   "display_name": "Python 3 (ipykernel)",
   "language": "python",
   "name": "python3"
  },
  "language_info": {
   "codemirror_mode": {
    "name": "ipython",
    "version": 3
   },
   "file_extension": ".py",
   "mimetype": "text/x-python",
   "name": "python",
   "nbconvert_exporter": "python",
   "pygments_lexer": "ipython3",
   "version": "3.9.1"
  },
  "title": "Multivariate Linear Regression"
 },
 "nbformat": 4,
 "nbformat_minor": 4
}
