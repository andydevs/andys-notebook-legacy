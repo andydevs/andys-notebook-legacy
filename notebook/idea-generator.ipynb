{
 "cells": [
  {
   "cell_type": "markdown",
   "id": "fd5570a7",
   "metadata": {},
   "source": [
    "# Creating an Idea Generator\n",
    "\n",
    "I need help with inspiration. So I crated an idea generator"
   ]
  },
  {
   "cell_type": "code",
   "execution_count": 1,
   "id": "36364ca1",
   "metadata": {},
   "outputs": [],
   "source": [
    "import re\n",
    "from random import choice\n",
    "from ipywidgets import Button, Output\n",
    "from yaml import full_load"
   ]
  },
  {
   "cell_type": "markdown",
   "id": "fe9ae201",
   "metadata": {},
   "source": [
    "So I'm gonna load all of the parts of the sentence using a YAML document. "
   ]
  },
  {
   "cell_type": "code",
   "execution_count": 2,
   "id": "d5fa62bb",
   "metadata": {},
   "outputs": [],
   "source": [
    "dictionary = full_load('''\n",
    "starter:\n",
    "    - '@project that @action'\n",
    "    - '@project that @action using @tool'\n",
    "lookup:\n",
    "    project:\n",
    "        - 'an app'\n",
    "        - 'a program'\n",
    "        - 'a robot'\n",
    "    action:\n",
    "        - 'computes @subject:noun'\n",
    "        - 'displays @subject:noun'\n",
    "        - 'automates @subject:action'\n",
    "        - 'draws @subject:noun'\n",
    "    subject:\n",
    "        noun:\n",
    "            - 'the weather'\n",
    "            - 'cats'\n",
    "            - 'doors'\n",
    "        action:\n",
    "            - 'walking @subject:noun'\n",
    "            - 'opening @subject:noun'\n",
    "    tool:\n",
    "        - 'Angular'\n",
    "        - 'React'\n",
    "        - 'Rails'\n",
    "        - 'Python'\n",
    "        - 'Javascript'\n",
    "        - 'Docker'\n",
    "''')"
   ]
  },
  {
   "cell_type": "markdown",
   "id": "6636b37e",
   "metadata": {},
   "source": [
    "Here's the generation system"
   ]
  },
  {
   "cell_type": "code",
   "execution_count": 3,
   "id": "9ca31017",
   "metadata": {},
   "outputs": [],
   "source": [
    "# Regexes\n",
    "identifier = re.compile(r'@([a-z:]+)')\n",
    "\n",
    "def replacer(match):\n",
    "    \"\"\"\n",
    "    Replace match with appropriate word\n",
    "    \n",
    "    :param match: the resulting match from the regular expression\n",
    "    \"\"\"\n",
    "    key = match.group(1)\n",
    "    keys = key.split(':')\n",
    "    table = dictionary['lookup']\n",
    "    for key in keys:\n",
    "        table = table[key]\n",
    "    output = choice(table)\n",
    "    return output\n",
    "\n",
    "def generate():\n",
    "    \"\"\"\n",
    "    Generate sentence\n",
    "    \"\"\"\n",
    "    # Generate sentence\n",
    "    sentence = choice(dictionary['starter'])\n",
    "    while identifier.search(sentence):\n",
    "        sentence = identifier.sub(replacer, sentence)\n",
    "    return sentence[0].upper() + sentence[1:]"
   ]
  },
  {
   "cell_type": "markdown",
   "id": "00c03b0e",
   "metadata": {},
   "source": [
    "Here's an interactive tool that can generate new sentences"
   ]
  },
  {
   "cell_type": "code",
   "execution_count": 4,
   "id": "547fec55",
   "metadata": {},
   "outputs": [
    {
     "data": {
      "application/vnd.jupyter.widget-view+json": {
       "model_id": "4e43d190d4cd48fab9e86221dff96fea",
       "version_major": 2,
       "version_minor": 0
      },
      "text/plain": [
       "Button(description='Generate', style=ButtonStyle())"
      ]
     },
     "metadata": {},
     "output_type": "display_data"
    },
    {
     "data": {
      "application/vnd.jupyter.widget-view+json": {
       "model_id": "cf20a5ca327640bc85e42a8508f96865",
       "version_major": 2,
       "version_minor": 0
      },
      "text/plain": [
       "Output()"
      ]
     },
     "metadata": {},
     "output_type": "display_data"
    }
   ],
   "source": [
    "# Display button and output\n",
    "button = Button(description='Generate')\n",
    "output = Output()\n",
    "display(button, output)\n",
    "\n",
    "@button.on_click\n",
    "def on_click(button):\n",
    "    \"\"\"\n",
    "    Generate sentence\n",
    "    \"\"\"\n",
    "    # Generate sentence\n",
    "    sentence = generate()\n",
    "    output.clear_output()\n",
    "    with output:\n",
    "        print(sentence)"
   ]
  }
 ],
 "metadata": {
  "callystio": {
   "description": "Creating an idea generator to help me with inspiration",
   "publish": false
  },
  "kernelspec": {
   "display_name": "Python 3 (ipykernel)",
   "language": "python",
   "name": "python3"
  },
  "language_info": {
   "codemirror_mode": {
    "name": "ipython",
    "version": 3
   },
   "file_extension": ".py",
   "mimetype": "text/x-python",
   "name": "python",
   "nbconvert_exporter": "python",
   "pygments_lexer": "ipython3",
   "version": "3.9.1"
  },
  "title": "Idea Generator"
 },
 "nbformat": 4,
 "nbformat_minor": 5
}
