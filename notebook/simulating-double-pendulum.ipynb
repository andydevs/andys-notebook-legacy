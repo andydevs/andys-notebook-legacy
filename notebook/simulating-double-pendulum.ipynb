{
 "cells": [
  {
   "cell_type": "markdown",
   "metadata": {},
   "source": [
    "# Simulating Double Pendulum using SciPy"
   ]
  },
  {
   "cell_type": "code",
   "execution_count": 2,
   "metadata": {},
   "outputs": [],
   "source": [
    "import numpy as np\n",
    "import scipy as sp\n",
    "import matplotlib.pyplot as plt"
   ]
  },
  {
   "cell_type": "markdown",
   "metadata": {},
   "source": [
    "## The Simplest Example: Single Pendulum with No Drag\n",
    "\n",
    "Second order differential equation:\n",
    "\n",
    "$$\n",
    "\\ddot{\\theta} = \\frac{g}{L} sin(\\theta)\n",
    "$$\n",
    "\n",
    "Expand it to a vectorized form (using $\\omega$ as angular velocity)\n",
    "\n",
    "$$\n",
    "\\begin{bmatrix}\n",
    "    \\dot{\\theta} \\\\\n",
    "    \\dot{\\omega}\n",
    "\\end{bmatrix} = \\begin{bmatrix}\n",
    "    \\omega \\\\\n",
    "    \\frac{g}{L} sin(\\theta)\n",
    "\\end{bmatrix}\n",
    "$$"
   ]
  }
 ],
 "metadata": {
  "kernelspec": {
   "display_name": "Python 3",
   "language": "python",
   "name": "python3"
  },
  "language_info": {
   "codemirror_mode": {
    "name": "ipython",
    "version": 3
   },
   "file_extension": ".py",
   "mimetype": "text/x-python",
   "name": "python",
   "nbconvert_exporter": "python",
   "pygments_lexer": "ipython3",
   "version": "3.7.2"
  }
 },
 "nbformat": 4,
 "nbformat_minor": 4
}
